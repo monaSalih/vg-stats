{
 "cells": [
  {
   "cell_type": "code",
   "execution_count": null,
   "metadata": {},
   "outputs": [],
   "source": [
    "import pandas as pd\n",
    "import numpy as np\n",
    "\n",
    "file1= pd.read_csv('./station.csv')\n",
    "file3= pd.read_csv('./weather.csv')\n",
    "file1.head()\n",
    "# file3"
   ]
  },
  {
   "cell_type": "code",
   "execution_count": null,
   "metadata": {},
   "outputs": [],
   "source": [
    "# file2= pd.read_csv('./trip.csv',delimiter=';', skiprows=0, low_memory=False)\n",
    "\n",
    "file2= pd.read_csv('./trip.csv',  error_bad_lines=False)\n",
    "file2\n"
   ]
  },
  {
   "cell_type": "markdown",
   "metadata": {},
   "source": [
    "**The average trip duration for a borrowed bicycle?**"
   ]
  },
  {
   "cell_type": "code",
   "execution_count": 40,
   "metadata": {},
   "outputs": [
    {
     "data": {
      "text/plain": [
       "1178.2956753399776"
      ]
     },
     "execution_count": 40,
     "metadata": {},
     "output_type": "execute_result"
    }
   ],
   "source": [
    "average_trip_duration= file2[[\"tripduration\"]].mean()\n",
    "average_trip_duration"
   ]
  },
  {
   "cell_type": "markdown",
   "metadata": {},
   "source": [
    "**What’s the most common age of a bicycle-sharer?**"
   ]
  },
  {
   "cell_type": "code",
   "execution_count": 20,
   "metadata": {},
   "outputs": [
    {
     "data": {
      "text/plain": [
       "34.0"
      ]
     },
     "execution_count": 20,
     "metadata": {},
     "output_type": "execute_result"
    }
   ],
   "source": [
    "most_common_age=2021-file2['birthyear'].value_counts().idxmax()\n",
    "most_common_age"
   ]
  },
  {
   "cell_type": "markdown",
   "metadata": {},
   "source": [
    "**Given all the weather data here, find the average precipitation per month, and the median precipitation.**"
   ]
  },
  {
   "cell_type": "code",
   "execution_count": 29,
   "metadata": {},
   "outputs": [
    {
     "name": "stdout",
     "output_type": "stream",
     "text": [
      "(Precipitation_In    3.151959\n",
      "dtype: float64, Precipitation_In    0.0\n",
      "dtype: float64) given\n"
     ]
    }
   ],
   "source": [
    "avg_per=file3[[\"Precipitation_In\"]].mean()\n",
    "avg_per=avg_per*30\n",
    "# avg_per\n",
    "\n",
    "medean_per=file3[['Precipitation_In']].median()\n",
    "# medean_per\n",
    "all_data=(avg_per,medean_per)\n",
    "print(all_data,\"given\")"
   ]
  },
  {
   "cell_type": "markdown",
   "metadata": {},
   "source": [
    "**What’s the average number of bikes at a given bike station?**"
   ]
  },
  {
   "cell_type": "code",
   "execution_count": 35,
   "metadata": {},
   "outputs": [
    {
     "data": {
      "text/plain": [
       "17.586206896551722"
      ]
     },
     "execution_count": 35,
     "metadata": {},
     "output_type": "execute_result"
    }
   ],
   "source": [
    "avg_bikes=file1[\"install_dockcount\"].mean()\n",
    "avg_bikes"
   ]
  },
  {
   "cell_type": "markdown",
   "metadata": {},
   "source": [
    "**When a bike station is modified, is it more likely that it’ll lose bikes or gain bikes? How do you know?**"
   ]
  },
  {
   "cell_type": "code",
   "execution_count": 41,
   "metadata": {},
   "outputs": [
    {
     "data": {
      "text/plain": [
       "16.517241379310345"
      ]
     },
     "execution_count": 41,
     "metadata": {},
     "output_type": "execute_result"
    }
   ],
   "source": [
    "avg_bikes_stat=file1[\"current_dockcount\"].mean()\n",
    "avg_bikes_stat"
   ]
  },
  {
   "cell_type": "markdown",
   "metadata": {},
   "source": [
    "## TEST\n"
   ]
  },
  {
   "cell_type": "code",
   "execution_count": 43,
   "metadata": {},
   "outputs": [
    {
     "name": "stdout",
     "output_type": "stream",
     "text": [
      "Success!!!\n"
     ]
    }
   ],
   "source": [
    "def test ():\n",
    "    \n",
    "    def assert_equal(actual,expected):\n",
    "        assert actual == expected, f\"Expected {expected} but got {actual}\"\n",
    "        assert_equal(average_trip_duration,1178.2956753399776)\n",
    "        assert_equal(most_common_age,34.0)\n",
    "        assert_equal(avg_per,3.1519593613933234)\n",
    "        assert_equal(medean_per, 0.0)\n",
    "        assert_equal(avg_bikes,17.586206896551722)\n",
    "        assert_equal(avg_bikes_stat,16.517241379310345)\n",
    "\n",
    "    print(\"Success!!!\")\n",
    "        \n",
    "test()"
   ]
  },
  {
   "cell_type": "markdown",
   "metadata": {},
   "source": [
    "## Three Question"
   ]
  },
  {
   "cell_type": "code",
   "execution_count": 37,
   "metadata": {},
   "outputs": [
    {
     "data": {
      "text/plain": [
       "5.117021403705188"
      ]
     },
     "execution_count": 37,
     "metadata": {},
     "output_type": "execute_result"
    }
   ],
   "source": [
    "#question1\n",
    "std_bikes=file1[\"current_dockcount\"].std()\n",
    "std_bikes"
   ]
  },
  {
   "cell_type": "code",
   "execution_count": null,
   "metadata": {},
   "outputs": [],
   "source": [
    "#question2\n",
    "min_temp = file3.sort_values(\"Min_TemperatureF\",ascending=True).head(3)\n",
    "min_temp"
   ]
  },
  {
   "cell_type": "code",
   "execution_count": null,
   "metadata": {},
   "outputs": [],
   "source": [
    "#question3\n",
    "std_trip_duration = file2[[\"tripduration\"]].std()\n",
    "std_trip_duration"
   ]
  }
 ],
 "metadata": {
  "interpreter": {
   "hash": "b063a62bf1232dcee3ff10f32b4916df01d7b32ed66b21e6ef3c8da4b91ce994"
  },
  "kernelspec": {
   "display_name": "Python 3.8.10 64-bit ('.venv': poetry)",
   "name": "python3"
  },
  "language_info": {
   "codemirror_mode": {
    "name": "ipython",
    "version": 3
   },
   "file_extension": ".py",
   "mimetype": "text/x-python",
   "name": "python",
   "nbconvert_exporter": "python",
   "pygments_lexer": "ipython3",
   "version": "3.8.10"
  },
  "orig_nbformat": 4
 },
 "nbformat": 4,
 "nbformat_minor": 2
}
